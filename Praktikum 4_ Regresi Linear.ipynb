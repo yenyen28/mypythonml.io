{
 "cells": [
  {
   "cell_type": "markdown",
   "id": "b2d4891f",
   "metadata": {},
   "source": [
    "## import Library"
   ]
  },
  {
   "cell_type": "code",
   "execution_count": 19,
   "id": "45bd4528",
   "metadata": {},
   "outputs": [],
   "source": [
    "#202031265_Yeni Anggraini\n",
    "import numpy as np\n",
    "import pandas as pd\n",
    "from matplotlib import pyplot as plt\n",
    "from sklearn.linear_model import LinearRegression"
   ]
  },
  {
   "cell_type": "markdown",
   "id": "86eca642",
   "metadata": {},
   "source": [
    "## Dataset"
   ]
  },
  {
   "cell_type": "code",
   "execution_count": 2,
   "id": "a0303454",
   "metadata": {},
   "outputs": [],
   "source": [
    "#202031265_Yeni Anggraini\n",
    "dataset= pd.DataFrame([[151,63],[174,81],[138,56],[186,91],[128,47],[136,57],[179,76],[163,72],[152,62],[131,48]])"
   ]
  },
  {
   "cell_type": "code",
   "execution_count": 3,
   "id": "dd336c00",
   "metadata": {},
   "outputs": [
    {
     "data": {
      "text/html": [
       "<div>\n",
       "<style scoped>\n",
       "    .dataframe tbody tr th:only-of-type {\n",
       "        vertical-align: middle;\n",
       "    }\n",
       "\n",
       "    .dataframe tbody tr th {\n",
       "        vertical-align: top;\n",
       "    }\n",
       "\n",
       "    .dataframe thead th {\n",
       "        text-align: right;\n",
       "    }\n",
       "</style>\n",
       "<table border=\"1\" class=\"dataframe\">\n",
       "  <thead>\n",
       "    <tr style=\"text-align: right;\">\n",
       "      <th></th>\n",
       "      <th>0</th>\n",
       "      <th>1</th>\n",
       "    </tr>\n",
       "  </thead>\n",
       "  <tbody>\n",
       "    <tr>\n",
       "      <th>0</th>\n",
       "      <td>151</td>\n",
       "      <td>63</td>\n",
       "    </tr>\n",
       "    <tr>\n",
       "      <th>1</th>\n",
       "      <td>174</td>\n",
       "      <td>81</td>\n",
       "    </tr>\n",
       "    <tr>\n",
       "      <th>2</th>\n",
       "      <td>138</td>\n",
       "      <td>56</td>\n",
       "    </tr>\n",
       "    <tr>\n",
       "      <th>3</th>\n",
       "      <td>186</td>\n",
       "      <td>91</td>\n",
       "    </tr>\n",
       "    <tr>\n",
       "      <th>4</th>\n",
       "      <td>128</td>\n",
       "      <td>47</td>\n",
       "    </tr>\n",
       "    <tr>\n",
       "      <th>5</th>\n",
       "      <td>136</td>\n",
       "      <td>57</td>\n",
       "    </tr>\n",
       "    <tr>\n",
       "      <th>6</th>\n",
       "      <td>179</td>\n",
       "      <td>76</td>\n",
       "    </tr>\n",
       "    <tr>\n",
       "      <th>7</th>\n",
       "      <td>163</td>\n",
       "      <td>72</td>\n",
       "    </tr>\n",
       "    <tr>\n",
       "      <th>8</th>\n",
       "      <td>152</td>\n",
       "      <td>62</td>\n",
       "    </tr>\n",
       "    <tr>\n",
       "      <th>9</th>\n",
       "      <td>131</td>\n",
       "      <td>48</td>\n",
       "    </tr>\n",
       "  </tbody>\n",
       "</table>\n",
       "</div>"
      ],
      "text/plain": [
       "     0   1\n",
       "0  151  63\n",
       "1  174  81\n",
       "2  138  56\n",
       "3  186  91\n",
       "4  128  47\n",
       "5  136  57\n",
       "6  179  76\n",
       "7  163  72\n",
       "8  152  62\n",
       "9  131  48"
      ]
     },
     "execution_count": 3,
     "metadata": {},
     "output_type": "execute_result"
    }
   ],
   "source": [
    "dataset"
   ]
  },
  {
   "cell_type": "code",
   "execution_count": 4,
   "id": "485c6fa3",
   "metadata": {},
   "outputs": [],
   "source": [
    "dataset.columns=['x','y']"
   ]
  },
  {
   "cell_type": "code",
   "execution_count": 5,
   "id": "c5b4b912",
   "metadata": {},
   "outputs": [
    {
     "data": {
      "text/html": [
       "<div>\n",
       "<style scoped>\n",
       "    .dataframe tbody tr th:only-of-type {\n",
       "        vertical-align: middle;\n",
       "    }\n",
       "\n",
       "    .dataframe tbody tr th {\n",
       "        vertical-align: top;\n",
       "    }\n",
       "\n",
       "    .dataframe thead th {\n",
       "        text-align: right;\n",
       "    }\n",
       "</style>\n",
       "<table border=\"1\" class=\"dataframe\">\n",
       "  <thead>\n",
       "    <tr style=\"text-align: right;\">\n",
       "      <th></th>\n",
       "      <th>x</th>\n",
       "      <th>y</th>\n",
       "    </tr>\n",
       "  </thead>\n",
       "  <tbody>\n",
       "    <tr>\n",
       "      <th>0</th>\n",
       "      <td>151</td>\n",
       "      <td>63</td>\n",
       "    </tr>\n",
       "    <tr>\n",
       "      <th>1</th>\n",
       "      <td>174</td>\n",
       "      <td>81</td>\n",
       "    </tr>\n",
       "    <tr>\n",
       "      <th>2</th>\n",
       "      <td>138</td>\n",
       "      <td>56</td>\n",
       "    </tr>\n",
       "    <tr>\n",
       "      <th>3</th>\n",
       "      <td>186</td>\n",
       "      <td>91</td>\n",
       "    </tr>\n",
       "    <tr>\n",
       "      <th>4</th>\n",
       "      <td>128</td>\n",
       "      <td>47</td>\n",
       "    </tr>\n",
       "    <tr>\n",
       "      <th>5</th>\n",
       "      <td>136</td>\n",
       "      <td>57</td>\n",
       "    </tr>\n",
       "    <tr>\n",
       "      <th>6</th>\n",
       "      <td>179</td>\n",
       "      <td>76</td>\n",
       "    </tr>\n",
       "    <tr>\n",
       "      <th>7</th>\n",
       "      <td>163</td>\n",
       "      <td>72</td>\n",
       "    </tr>\n",
       "    <tr>\n",
       "      <th>8</th>\n",
       "      <td>152</td>\n",
       "      <td>62</td>\n",
       "    </tr>\n",
       "    <tr>\n",
       "      <th>9</th>\n",
       "      <td>131</td>\n",
       "      <td>48</td>\n",
       "    </tr>\n",
       "  </tbody>\n",
       "</table>\n",
       "</div>"
      ],
      "text/plain": [
       "     x   y\n",
       "0  151  63\n",
       "1  174  81\n",
       "2  138  56\n",
       "3  186  91\n",
       "4  128  47\n",
       "5  136  57\n",
       "6  179  76\n",
       "7  163  72\n",
       "8  152  62\n",
       "9  131  48"
      ]
     },
     "execution_count": 5,
     "metadata": {},
     "output_type": "execute_result"
    }
   ],
   "source": [
    "dataset"
   ]
  },
  {
   "cell_type": "markdown",
   "id": "cd820fa9",
   "metadata": {},
   "source": [
    "## Data Split"
   ]
  },
  {
   "cell_type": "code",
   "execution_count": 6,
   "id": "de52a43d",
   "metadata": {},
   "outputs": [],
   "source": [
    "#202031265_Yeni Anggraini\n",
    "x_train= dataset['x'].values[:,np.newaxis]\n",
    "y_train= dataset['y'].values"
   ]
  },
  {
   "cell_type": "code",
   "execution_count": 7,
   "id": "43f4008c",
   "metadata": {},
   "outputs": [
    {
     "name": "stdout",
     "output_type": "stream",
     "text": [
      "[[151]\n",
      " [174]\n",
      " [138]\n",
      " [186]\n",
      " [128]\n",
      " [136]\n",
      " [179]\n",
      " [163]\n",
      " [152]\n",
      " [131]]\n"
     ]
    }
   ],
   "source": [
    "print(x_train)"
   ]
  },
  {
   "cell_type": "code",
   "execution_count": 8,
   "id": "3675f19f",
   "metadata": {},
   "outputs": [
    {
     "name": "stdout",
     "output_type": "stream",
     "text": [
      "[63 81 56 91 47 57 76 72 62 48]\n"
     ]
    }
   ],
   "source": [
    "print(y_train)"
   ]
  },
  {
   "cell_type": "markdown",
   "id": "d43a1f59",
   "metadata": {},
   "source": [
    "## Create a Machine Learning Model"
   ]
  },
  {
   "cell_type": "code",
   "execution_count": 9,
   "id": "f4fec2ab",
   "metadata": {},
   "outputs": [
    {
     "data": {
      "text/plain": [
       "LinearRegression()"
      ]
     },
     "execution_count": 9,
     "metadata": {},
     "output_type": "execute_result"
    }
   ],
   "source": [
    "#202031265_Yeni Anggraini\n",
    "modelLR=LinearRegression()\n",
    "modelLR.fit(x_train, y_train)"
   ]
  },
  {
   "cell_type": "code",
   "execution_count": 10,
   "id": "bd1e3236",
   "metadata": {},
   "outputs": [
    {
     "name": "stdout",
     "output_type": "stream",
     "text": [
      "Coefficient / b:[0.67461045]\n"
     ]
    }
   ],
   "source": [
    "print('Coefficient / b:' + str(modelLR.coef_))"
   ]
  },
  {
   "cell_type": "code",
   "execution_count": 11,
   "id": "c3fa86d8",
   "metadata": {},
   "outputs": [
    {
     "name": "stdout",
     "output_type": "stream",
     "text": [
      "Intercapt/ a:-38.45508707607699\n"
     ]
    }
   ],
   "source": [
    "print('Intercapt/ a:' + str(modelLR.intercept_))"
   ]
  },
  {
   "cell_type": "markdown",
   "id": "df9bd7b7",
   "metadata": {},
   "source": [
    "## Testing"
   ]
  },
  {
   "cell_type": "code",
   "execution_count": 12,
   "id": "21b8cfd5",
   "metadata": {},
   "outputs": [],
   "source": [
    "#202031265_Yeni Anggraini\n",
    "y1= 170*modelLR.coef_+modelLR.intercept_\n",
    "y2= 109*modelLR.coef_+modelLR.intercept_"
   ]
  },
  {
   "cell_type": "code",
   "execution_count": 13,
   "id": "832c1f5a",
   "metadata": {},
   "outputs": [],
   "source": [
    "y_test=[y1,y2]"
   ]
  },
  {
   "cell_type": "code",
   "execution_count": 14,
   "id": "6b54c3d6",
   "metadata": {},
   "outputs": [],
   "source": [
    "#202031265_Yeni Anggraini\n",
    "x_test=[[170],[109]]"
   ]
  },
  {
   "cell_type": "code",
   "execution_count": 15,
   "id": "0fba77a4",
   "metadata": {},
   "outputs": [],
   "source": [
    "prediksi = modelLR.predict(x_test)"
   ]
  },
  {
   "cell_type": "code",
   "execution_count": 16,
   "id": "329a5cde",
   "metadata": {},
   "outputs": [
    {
     "name": "stdout",
     "output_type": "stream",
     "text": [
      "[76.22868928 35.07745188]\n"
     ]
    }
   ],
   "source": [
    "print(prediksi)"
   ]
  },
  {
   "cell_type": "markdown",
   "id": "49fde143",
   "metadata": {},
   "source": [
    "## Plotting"
   ]
  },
  {
   "cell_type": "code",
   "execution_count": 17,
   "id": "0f7e231b",
   "metadata": {},
   "outputs": [
    {
     "data": {
      "image/png": "[encoded data removed]",
      "text/plain": [
       "<Figure size 432x288 with 1 Axes>"
      ]
     },
     "metadata": {
      "needs_background": "light"
     },
     "output_type": "display_data"
    }
   ],
   "source": [
    "#202031265_Yeni Anggraini\n",
    "plot= modelLR.predict(x_train)\n",
    "dfc=pd.DataFrame({'x' : dataset['x'],'y' :plot})\n",
    "plt.scatter(dataset['x'], dataset['y'])\n",
    "plt.plot(dfc['x'], dfc['y'], color='red', linewidth=1)\n",
    "plt.xlabel('Tinggi dalam Cm')\n",
    "plt.ylabel('Berat dalam Kg')\n",
    "plt.show()"
   ]
  },
  {
   "cell_type": "markdown",
   "id": "88f51bb1",
   "metadata": {},
   "source": [
    "## Accuracy atau Model Evaluasi"
   ]
  },
  {
   "cell_type": "code",
   "execution_count": 18,
   "id": "8f38b057",
   "metadata": {},
   "outputs": [
    {
     "name": "stdout",
     "output_type": "stream",
     "text": [
      "Hasil RMSE: 0.0\n"
     ]
    }
   ],
   "source": [
    "#202031265_Yeni Anggraini\n",
    "from sklearn.metrics import mean_squared_error\n",
    "print('Hasil RMSE:' , mean_squared_error(y_test, prediksi, squared=False))"
   ]
  },
  {
   "cell_type": "code",
   "execution_count": null,
   "id": "fbf97a45",
   "metadata": {},
   "outputs": [],
   "source": []
  }
 ],
 "metadata": {
  "kernelspec": {
   "display_name": "Python 3 (ipykernel)",
   "language": "python",
   "name": "python3"
  },
  "language_info": {
   "codemirror_mode": {
    "name": "ipython",
    "version": 3
   },
   "file_extension": ".py",
   "mimetype": "text/x-python",
   "name": "python",
   "nbconvert_exporter": "python",
   "pygments_lexer": "ipython3",
   "version": "3.9.7"
  }
 },
 "nbformat": 4,
 "nbformat_minor": 5
}
